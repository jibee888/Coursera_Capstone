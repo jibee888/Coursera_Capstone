{
 "cells": [
  {
   "cell_type": "markdown",
   "metadata": {},
   "source": [
    "# Capstone Project - SDOT Accident Severity (Week 1)\n",
    "### Applied Data Science Capstone by IBM/Coursera"
   ]
  },
  {
   "cell_type": "markdown",
   "metadata": {},
   "source": [
    "## Table of contents\n",
    "* [Introduction](#introduction)\n",
    "* [Data](#data)\n"
   ]
  },
  {
   "cell_type": "markdown",
   "metadata": {},
   "source": [
    "## Introduction <a name=\"introduction\"></a>"
   ]
  },
  {
   "cell_type": "markdown",
   "metadata": {},
   "source": [
    "In this project, we will be digging deeper into the accident data provided to us from the Seattle Department of Transportation (SDOT). The question we aim to answer is this: ***If an accident should occur given the relevant attributes provided, how severe would this accident be?*** \n",
    "\n",
    "We are confident that our findings would be of good use to the SDOT and its associated government agencies (including, but not limited to the Seattle Police Department). For one thing, it would result in more efficient allocation of their resources to prevent injuries and damage to property caused by accidents in the area.\n",
    "\n",
    "As an effect, the general populace of the city of Seattle would be safer, knowing those who watch over them have more information at their disposal.\n"
   ]
  },
  {
   "cell_type": "markdown",
   "metadata": {},
   "source": [
    "## Data <a name=\"data\"></a>"
   ]
  },
  {
   "cell_type": "markdown",
   "metadata": {},
   "source": [
    "The data we have on hand is quite extensive, providing us with relevant attributes such as the location and time of the accident, as well as the consequent weather and lighting conditions when the event occurred. There are also details indicating how many pedestrians were involved, or if one or more cars that were affected were parked or not.\n",
    "\n",
    "#### Breakdown\n",
    "\n",
    "For this particular case, the Dependent Variable to predict will be the severity of the accident, or **SEVERITYCODE**. Note that the Severity Codes in the provided CSV file are only limited to two values: 1 and 2. According to the supplementary Metadata file, **SEVERITYCODE 1** corresponds to **Property Damage** and **2** corresponds to **Injury**. Thus, the model we will create will be geared towards ***predicting the likelihood of a potential accident to lead to Property Damage or Injury.***\n",
    "\n",
    "**NOTE:** There were other Severity Codes disclosed on the Metadata: 0 (Unknown), 2b (Serious Injury), and 3 (Fatality). We believe these were omitted because the dataset already had thousands of rows to work on without these Severity Codes. 0 (Unknown) was most likely omitted because of its potential to confuse the model. Finally, we believe 2 (Injury) would be of utmost importance because we don't want to wait for serious injuries or fatalities to happen before we work on data. In other words if we could prevent injury we could definitely prevent worse things from happening. \n"
   ]
  },
  {
   "cell_type": "markdown",
   "metadata": {},
   "source": [
    "We have chosen to work with the following Attributes:\n",
    "\n",
    "* **LOCATION** - Description of the general location of the collision. \n",
    "* **PERSONCOUNT** - The total number of people involved in the collision.\n",
    "* **VEHCOUNT** - The number of vehicles involved in the collision.\n",
    "* **JUNCTIONTYPE** - Category of junction at which collision took place\n",
    "* **WEATHER** - A description of the weather conditions during the time of the collision. \n",
    "* **ROADCOND** - The condition of the road during the collision.\n",
    "* **LIGHTCOND** - The light conditions during the collision. \n",
    "* **SPEEDING** - Whether or not speeding was a factor in the collision.\n",
    "\n",
    "These descriptions were also fathered from the supplementary Metadata file. \n",
    "\n",
    "We are preserving the following Columns, but may drop them as we continue with the project:\n",
    "* **X/Y** - Coordinates serving as supplementary to LOCATION \n",
    "* **INCDATE, INCDTTM** - The date and time of the incident; Could it have happened on, say, a holiday? Or is this relevant?\n",
    "\n",
    "Finally, these are the columns we dropped, due to their lesser relevance or because they are details of the accident after the fact:\n",
    "**OBJECTID, INCKEY, COLDETKEY, REPORTNO, STATUS, ADDRTYPE, INTKEY, EXCEPTRSNCODE, EXCEPTRSNDESC, Duplicate SEVERITYCODE, COLLISIONTYPE, PEDCOUNT, PEDCYLCOUNT, SDOT_COLCODE, SDOT_COLDESC, INATTENTIONIND, UNDERINFL, PEDROWNOTGRNT, SDOTCOLNUM, ST_COLCODE, ST_COLDESC, SEGLANEKEY, CROSSWALKKEY, HITPARKEDCAR, SEVERITYDESC**"
    "\n",
    "We have the original, untouched CSV saved as Data-Collisions - RAW.csv in the repository. Consequently, a CSV with columns dropped is also on the repository, filename Data-Collisions - Clean Attributes.csv."
   ]
  },
  {
   "cell_type": "code",
   "execution_count": null,
   "metadata": {},
   "outputs": [],
   "source": []
  },
  {
   "cell_type": "code",
   "execution_count": null,
   "metadata": {},
   "outputs": [],
   "source": []
  }
 ],
 "metadata": {
  "kernelspec": {
   "display_name": "Python",
   "language": "python",
   "name": "conda-env-python-py"
  },
  "language_info": {
   "codemirror_mode": {
    "name": "ipython",
    "version": 3
   },
   "file_extension": ".py",
   "mimetype": "text/x-python",
   "name": "python",
   "nbconvert_exporter": "python",
   "pygments_lexer": "ipython3",
   "version": "3.6.11"
  }
 },
 "nbformat": 4,
 "nbformat_minor": 4
}
